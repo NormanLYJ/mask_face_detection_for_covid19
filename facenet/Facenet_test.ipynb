{
  "nbformat": 4,
  "nbformat_minor": 0,
  "metadata": {
    "colab": {
      "name": "Facenet.ipynb",
      "provenance": [],
      "collapsed_sections": []
    },
    "kernelspec": {
      "name": "python3",
      "display_name": "Python 3"
    }
  },
  "cells": [
    {
      "cell_type": "markdown",
      "metadata": {
        "id": "jsVG7DrJ173J"
      },
      "source": [
        "# 1. Set Up"
      ]
    },
    {
      "cell_type": "code",
      "metadata": {
        "id": "x7-7UKlDGA40",
        "outputId": "9208b57a-9ea2-4b38-a35f-3d4c9ee50879",
        "colab": {
          "base_uri": "https://localhost:8080/",
          "height": 238
        }
      },
      "source": [
        "#install mtcnn\n",
        "!pip install mtcnn\n",
        "\n",
        "#mount Goolge Drive\n",
        "from google.colab import drive\n",
        "drive.mount('/content/gdrive')\n",
        "\n",
        "#set file path\n",
        "path = \"/content/gdrive/My Drive/iss/project/\""
      ],
      "execution_count": 1,
      "outputs": [
        {
          "output_type": "stream",
          "text": [
            "Collecting mtcnn\n",
            "\u001b[?25l  Downloading https://files.pythonhosted.org/packages/67/43/abee91792797c609c1bf30f1112117f7a87a713ebaa6ec5201d5555a73ef/mtcnn-0.1.0-py3-none-any.whl (2.3MB)\n",
            "\u001b[K     |████████████████████████████████| 2.3MB 2.9MB/s \n",
            "\u001b[?25hRequirement already satisfied: opencv-python>=4.1.0 in /usr/local/lib/python3.6/dist-packages (from mtcnn) (4.1.2.30)\n",
            "Requirement already satisfied: keras>=2.0.0 in /usr/local/lib/python3.6/dist-packages (from mtcnn) (2.4.3)\n",
            "Requirement already satisfied: numpy>=1.11.3 in /usr/local/lib/python3.6/dist-packages (from opencv-python>=4.1.0->mtcnn) (1.18.5)\n",
            "Requirement already satisfied: h5py in /usr/local/lib/python3.6/dist-packages (from keras>=2.0.0->mtcnn) (2.10.0)\n",
            "Requirement already satisfied: scipy>=0.14 in /usr/local/lib/python3.6/dist-packages (from keras>=2.0.0->mtcnn) (1.4.1)\n",
            "Requirement already satisfied: pyyaml in /usr/local/lib/python3.6/dist-packages (from keras>=2.0.0->mtcnn) (3.13)\n",
            "Requirement already satisfied: six in /usr/local/lib/python3.6/dist-packages (from h5py->keras>=2.0.0->mtcnn) (1.15.0)\n",
            "Installing collected packages: mtcnn\n",
            "Successfully installed mtcnn-0.1.0\n",
            "Mounted at /content/gdrive\n"
          ],
          "name": "stdout"
        }
      ]
    },
    {
      "cell_type": "code",
      "metadata": {
        "id": "NRTfC5LM2Lwu"
      },
      "source": [
        "#import library\n",
        "import tensorflow as tf\n",
        "from tensorflow import keras\n",
        "from tensorflow.keras import Sequential\n",
        "from tensorflow.keras.layers import Conv2D, ZeroPadding2D, Activation, Input, concatenate\n",
        "from tensorflow.keras.models import Model\n",
        "from tensorflow.keras.layers import BatchNormalization\n",
        "from tensorflow.keras.layers import MaxPooling2D, AveragePooling2D\n",
        "from tensorflow.keras.layers import Concatenate\n",
        "from tensorflow.keras.layers import Lambda, Flatten, Dense\n",
        "from tensorflow.keras.initializers import glorot_uniform\n",
        "from tensorflow.keras import layers\n",
        "import cv2\n",
        "import os\n",
        "import numpy as np\n",
        "from numpy import genfromtxt\n",
        "import pandas as pd\n",
        "import h5py\n",
        "import matplotlib.pyplot as plt\n",
        "\n",
        "import mtcnn\n",
        "from mtcnn.mtcnn import MTCNN\n",
        "from matplotlib import pyplot as plt\n",
        "from tensorflow.keras.models import load_model\n",
        "from scipy.spatial.distance import cosine\n",
        "from PIL import Image\n",
        "from tensorflow.keras import backend as K\n",
        "from matplotlib import cm\n",
        "import cv2\n",
        "import numpy as np\n",
        "from matplotlib import pyplot as plt\n",
        "from google.colab.patches import cv2_imshow\n",
        "\n",
        "face_cascade=cv2.CascadeClassifier(\"/content/gdrive/My Drive/iss/project/haarcascade_frontalface_default.xml\")\n",
        "haarcascade_lefteye_2splits=cv2.CascadeClassifier(\"/content/gdrive/My Drive/iss/project/haarcascade_lefteye_2splits.xml\")\n",
        "haarcascade_righteye_2splits=cv2.CascadeClassifier(\"/content/gdrive/My Drive/iss/project/haarcascade_righteye_2splits.xml\")\n",
        "haarcascade_eye_tree_eyeglasses=cv2.CascadeClassifier(\"/content/gdrive/My Drive/iss/project/haarcascade_eye_tree_eyeglasses.xml\")\n",
        "\n",
        "if K.backend()=='tensorflow':\n",
        "    keras.backend.set_image_data_format(\"channels_last\")\n",
        "\n",
        "%matplotlib inline\n",
        "%load_ext autoreload\n",
        "%autoreload 2"
      ],
      "execution_count": 2,
      "outputs": []
    },
    {
      "cell_type": "markdown",
      "metadata": {
        "id": "1hhD32l62syW"
      },
      "source": [
        "# 2. Data Processing"
      ]
    },
    {
      "cell_type": "code",
      "metadata": {
        "id": "nRMlbfgWGcs0"
      },
      "source": [
        "def samegroup(eye1,eye2):\n",
        "  dx = min(eye1[0]+eye1[2], eye2[0]+eye1[2]) - max(eye1[0], eye2[0])\n",
        "  dy = min(eye1[1]+eye1[3], eye2[1]+eye1[3]) - max(eye1[1], eye2[1])\n",
        "  if (dx>=0) and (dy>=0) and (dx*dy>0.5):\n",
        "      return True\n",
        "  return False\n",
        "\n",
        "def get_eyes(roi_gray):\n",
        "  # Creating variable eyes\n",
        "  haarcascade_lefteye_2splits1 = haarcascade_lefteye_2splits.detectMultiScale(roi_gray, 1.1, 3)\n",
        "  haarcascade_righteye_2splits1 = haarcascade_righteye_2splits.detectMultiScale(roi_gray, 1.1, 3)\n",
        "  eyeglasses1 = haarcascade_eye_tree_eyeglasses.detectMultiScale(roi_gray, 1.1, 3)\n",
        "\n",
        "  eye_group = []\n",
        "  group = 0\n",
        "  for (ex , ey,  ew,  eh) in haarcascade_lefteye_2splits1:\n",
        "    eye_group.append([ex , ey,  ew,  eh, group])\n",
        "    group += 1\n",
        "    #cv2.rectangle(lefteyexml,(ex,ey),(ex+ew,ey+eh),(0,255,0),2)\n",
        "  for (ex , ey,  ew,  eh) in haarcascade_righteye_2splits1:\n",
        "    grouped = False\n",
        "    for g in eye_group:\n",
        "      if samegroup([ex , ey,  ew,  eh],g):\n",
        "        eye_group.append([ex , ey,  ew,  eh, g[4]])\n",
        "        grouped = True\n",
        "        break\n",
        "    if grouped == False:\n",
        "      eye_group.append([ex , ey,  ew,  eh, group])\n",
        "      group +=1\n",
        "  for (ex , ey,  ew,  eh) in eyeglasses1:\n",
        "    grouped = False\n",
        "    for g in eye_group:\n",
        "      if samegroup([ex , ey,  ew,  eh],g):\n",
        "        eye_group.append([ex , ey,  ew,  eh, g[4]])\n",
        "        grouped = True\n",
        "        break\n",
        "    if grouped == False:\n",
        "      eye_group.append([ex , ey,  ew,  eh, group])\n",
        "      group +=1\n",
        "    #cv2.rectangle(eyeglassesxml,(ex,ey),(ex+ew,ey+eh),(255,255,255),2)\n",
        "  #print(\"total groups : \"+str(group))\n",
        "  eyes = []\n",
        "  for i in range(group):\n",
        "    ecount = 0\n",
        "    ex = 0\n",
        "    ey = 0\n",
        "    ew = 0\n",
        "    eh = 0\n",
        "    for e in eye_group:\n",
        "      if e[4] == i:\n",
        "        ex += e[0]\n",
        "        ey += e[1]\n",
        "        ew += e[2]\n",
        "        eh += e[3]\n",
        "        ecount+=1\n",
        "    if ecount > 1:\n",
        "      ex = int(ex/ecount)\n",
        "      ey = int(ey/ecount)\n",
        "      ew = int(ew/ecount)\n",
        "      eh = int(eh/ecount)\n",
        "    #print(\"Group : \"+str(i))\n",
        "    #print(\"position : {},{},{},{}\",ex,ey,ew,eh)\n",
        "    if len(eyes) <2 :\n",
        "      if len(eyes) == 1:\n",
        "        tmp = eyes[0]\n",
        "        if eyes[0][2]*eyes[0][3] < ew*eh:\n",
        "          eyes[0] = [ex,ey,ew,eh]\n",
        "          eyes.append(tmp)\n",
        "        else:\n",
        "          eyes.append([ex,ey,ew,eh])\n",
        "      else:\n",
        "        eyes.append([ex,ey,ew,eh])\n",
        "      #print(len(eyes))\n",
        "    else:\n",
        "      if eyes[0][2]*eyes[0][3] < ew*eh:\n",
        "        tmp = eyes[0]\n",
        "        eyes[0] = [ex,ey,ew,eh]\n",
        "        eyes[1] = tmp\n",
        "      elif eyes[1][2]*eyes[1][3] < ew*eh:\n",
        "        eyes[1] = [ex,ey,ew,eh]\n",
        "  return eyes\n",
        "\n",
        "\n",
        "\n",
        "def rotate_img(img_path):\n",
        "    img = cv2.imread(img_path)\n",
        "    img_original = img    \n",
        "\n",
        "    lefteyexml = img\n",
        "    righteyexml = img\n",
        "    eyexml = img\n",
        "    eyeglassesxml = img\n",
        "\n",
        "    lefteyexml2 = img\n",
        "    righteyexml2 = img\n",
        "    eyexml2 = img\n",
        "    eyeglassesxml2 = img\n",
        "\n",
        "    lefteyexml3 = img\n",
        "    righteyexml3 = img\n",
        "    eyexml3 = img\n",
        "    eyeglassesxml3 = img\n",
        "\n",
        "    # Converting the image into grayscale\n",
        "    gray=cv2.cvtColor(img, cv2.COLOR_BGR2GRAY)\n",
        "    f_count = 0\n",
        "    #try:\n",
        "    # Creating variable faces\n",
        "    faces= face_cascade.detectMultiScale (gray, 1.1, 4)\n",
        "    # Defining and drawing the rectangle around the face\n",
        "    for(x,y,w,h) in faces:\n",
        "      f_count+=1\n",
        "    # Creating two regions of interest\n",
        "    roi_gray=gray\n",
        "    roi_color=img\n",
        "    \n",
        "    eyes = get_eyes(roi_gray)    \n",
        "\n",
        "    #for e in eyes:\n",
        "    #  cv2.rectangle(eyeglassesxml,(e[0],e[1]),(e[0]+e[2],e[1]+e[3]),(0,0,255),2)\n",
        "\n",
        "    if len(eyes) ==2:\n",
        "      # Creating for loop in order to divide one eye from another\n",
        "      eye_1 = eyes[0]\n",
        "      eye_2 = eyes[1]\n",
        "      \n",
        "      if eye_1[0] < eye_2[0]:\n",
        "          left_eye = eye_1\n",
        "          right_eye = eye_2\n",
        "      else:\n",
        "          left_eye = eye_2\n",
        "          right_eye = eye_1\n",
        "      # Calculating coordinates of a central points of the rectangles\n",
        "      left_eye_center = (int(left_eye[0] + (left_eye[2] / 2)), int(left_eye[1] + (left_eye[3] / 2)))\n",
        "      left_eye_x = left_eye_center[0] \n",
        "      left_eye_y = left_eye_center[1]\n",
        "        \n",
        "      right_eye_center = (int(right_eye[0] + (right_eye[2]/2)), int(right_eye[1] + (right_eye[3]/2)))\n",
        "      right_eye_x = right_eye_center[0]\n",
        "      right_eye_y = right_eye_center[1]\n",
        "\n",
        "      if left_eye_y > right_eye_y:\n",
        "          A = (right_eye_x, left_eye_y)\n",
        "          # Integer -1 indicates that the image will rotate in the clockwise direction\n",
        "          direction = -1 \n",
        "      else:\n",
        "          A = (left_eye_x, right_eye_y)\n",
        "        # Integer 1 indicates that image will rotate in the counter clockwise  \n",
        "        # direction\n",
        "          direction = 1 \n",
        "\n",
        "      delta_x = right_eye_x - left_eye_x\n",
        "      delta_y = right_eye_y - left_eye_y\n",
        "      angle=np.arctan(delta_y/delta_x)\n",
        "      angle = (angle * 180) / np.pi\n",
        "\n",
        "      # Width and height of the image\n",
        "      h, w = img.shape[:2]\n",
        "      # Calculating a center point of the image\n",
        "      # Integer division \"//\"\" ensures that we receive whole numbers\n",
        "      center = (w // 2, h // 2)\n",
        "      # Defining a matrix M and calling\n",
        "      # cv2.getRotationMatrix2D method\n",
        "      M = cv2.getRotationMatrix2D(center, (angle), 1.0)\n",
        "      # Applying the rotation to our image using the\n",
        "      # cv2.warpAffine method\n",
        "      rotated = cv2.warpAffine(img_original, M, (w, h))\n",
        "\n",
        "      rotated = cv2.resize(rotated,(160,160),interpolation=cv2.INTER_CUBIC)\n",
        "      rotated = cv2.cvtColor(rotated,cv2.COLOR_BGR2GRAY)\n",
        "      rotated = cv2.cvtColor(rotated,cv2.COLOR_GRAY2RGB)\n",
        "      return rotated\n",
        "\n",
        "    return img_original"
      ],
      "execution_count": 3,
      "outputs": []
    },
    {
      "cell_type": "code",
      "metadata": {
        "id": "_Py4mHaI2ruF"
      },
      "source": [
        "# create the detector, using default weights\n",
        "detector = MTCNN()\n",
        "def extract_face(filename, required_size=(160, 160)):\n",
        "    npimg = rotate_img(filename)\n",
        "    '''\n",
        "    image = Image.fromarray(np.uint8(cm.gist_earth(npimg)*255))\n",
        "    #image = Image.open(filename)\n",
        "    # convert to RGB, if needed\n",
        "    image = image.convert('RGB')\n",
        "    # convert to array\n",
        "    pixels = np.asarray(image)\n",
        "    # detect faces in the image\n",
        "    results = detector.detect_faces(pixels)\n",
        "    # extract the bounding box from the first face\n",
        "    x1, y1, width, height = results[0]['box']\n",
        "    # deal with negative pixel index\n",
        "    x1, y1 = abs(x1), abs(y1)\n",
        "    x2, y2 = x1 + width, y1 + height\n",
        "    # extract the face\n",
        "    face = pixels[y1:y2, x1:x2]\n",
        "    # resize pixels to the model size\n",
        "    image = Image.fromarray(face)\n",
        "    image = image.resize(required_size)\n",
        "    face_array = np.asarray(image)\n",
        "    return face_array\n",
        "    '''\n",
        "    return npimg\n",
        "\n"
      ],
      "execution_count": 4,
      "outputs": []
    },
    {
      "cell_type": "markdown",
      "metadata": {
        "id": "hjMf0W3F3Bsv"
      },
      "source": [
        "# 3. Load Model"
      ]
    },
    {
      "cell_type": "code",
      "metadata": {
        "id": "CJIW_4dC3GOc",
        "outputId": "a64dbad7-40b7-4d01-c0ea-7a17b128b7a9",
        "colab": {
          "base_uri": "https://localhost:8080/",
          "height": 34
        }
      },
      "source": [
        "#Define Triplet_loss\n",
        "def triplet_loss(y_true, y_pred, alpha = 0.2):\n",
        "    \n",
        "    anchor, positive, negative = y_pred[0], y_pred[1], y_pred[2]\n",
        "  \n",
        "    # Step 1: Compute the (encoding) distance between the anchor and the positive\n",
        "    pos_dist = tf.reduce_sum(tf.square(tf.subtract(anchor, positive)), axis=-1)\n",
        "    # Step 2: Compute the (encoding) distance between the anchor and the negative\n",
        "    neg_dist = tf.reduce_sum(tf.square(tf.subtract(anchor, negative)), axis=-1)\n",
        "    # Step 3: subtract the two previous distances and add alpha.\n",
        "    basic_loss = tf.add(tf.subtract(pos_dist, neg_dist), alpha)\n",
        "    # Step 4: Take the maximum of basic_loss and 0.0. Sum over the training examples.\n",
        "    loss = tf.reduce_sum(tf.maximum(basic_loss, 0.0))\n",
        "    \n",
        "    return loss\n",
        "\n",
        "#load pre-trained FaceNet Model\n",
        "facenet_model = load_model(path+'facenet_keras.h5', custom_objects={ 'loss': triplet_loss })"
      ],
      "execution_count": 5,
      "outputs": [
        {
          "output_type": "stream",
          "text": [
            "WARNING:tensorflow:No training configuration found in the save file, so the model was *not* compiled. Compile it manually.\n"
          ],
          "name": "stdout"
        }
      ]
    },
    {
      "cell_type": "markdown",
      "metadata": {
        "id": "18ZgM-VT3dw-"
      },
      "source": [
        "# 4. Get image encoding"
      ]
    },
    {
      "cell_type": "code",
      "metadata": {
        "id": "v_hMuVit3dR8"
      },
      "source": [
        "from sklearn.preprocessing import Normalizer\n",
        "in_encoder = Normalizer('l2')\n",
        "\n",
        "def get_embedding(model, face):\n",
        "    # scale pixel values\n",
        "    face = face.astype('float32')\n",
        "    # standardization\n",
        "    mean, std = face.mean(), face.std()\n",
        "    face = (face - mean) / std\n",
        "    #print(face.shape)\n",
        "    face = cv2.resize(face,(160,160))\n",
        "    face = np.expand_dims(face, axis=0)\n",
        "    #print(face.shape)\n",
        "    encode = model.predict(face)[0]\n",
        "    #print(encode)\n",
        "    return encode\n",
        "\n",
        "def who_is_it(image_path, database, model):\n",
        "    \n",
        "    #Compute the target \"encoding\" for the image\n",
        "    face = extract_face(image_path)\n",
        "    encoding = get_embedding(facenet_model,face)\n",
        "    encoding = in_encoder.transform(np.expand_dims(encoding, axis=0))[0]\n",
        "    \n",
        "    # Initialize \"min_dist\" to a large value\n",
        "    min_dist = float(\"inf\")\n",
        "    identity = 'Not in the database'\n",
        "    # Loop over the database dictionary's names and encodings.\n",
        "    for (name, db_enc) in database.items():\n",
        "        \n",
        "        # Compute L2 distance between the target \"encoding\" and the current db_enc\n",
        "        dist = cosine(db_enc,encoding)\n",
        "\n",
        "        # If this distance is less than the min_dist, then set min_dist to dist, and identity to name\n",
        "        if dist < 0.5 and dist < min_dist:\n",
        "            min_dist = dist\n",
        "            identity = name\n",
        "\n",
        "    \n",
        "    #if min_dist > 0.5:\n",
        "    #    print(\"Not in the database.\")\n",
        "    #else:\n",
        "    #    print (\"it's \" + str(identity) + \", the distance is \" + str(min_dist))\n",
        "        \n",
        "    return min_dist, identity\n",
        "\n",
        "def predict(img, database, model):\n",
        "    \n",
        "    #Compute the target \"encoding\" for the image\n",
        "    #face = extract_face(image_path)\n",
        "    encoding = get_embedding(facenet_model,img)\n",
        "    encoding = in_encoder.transform(np.expand_dims(encoding, axis=0))[0]\n",
        "    \n",
        "    # Initialize \"min_dist\" to a large value\n",
        "    min_dist = float(\"inf\")\n",
        "    identity = 'Not in the database'\n",
        "    # Loop over the database dictionary's names and encodings.\n",
        "    for (name, db_enc) in database.items():\n",
        "        \n",
        "        # Compute L2 distance between the target \"encoding\" and the current db_enc\n",
        "        dist = cosine(db_enc,encoding)\n",
        "\n",
        "        # If this distance is less than the min_dist, then set min_dist to dist, and identity to name\n",
        "        if dist < 0.8 and dist < min_dist:\n",
        "            min_dist = dist\n",
        "            identity = name\n",
        "\n",
        "    \n",
        "    #if min_dist > 0.5:\n",
        "    #    print(\"Not in the database.\")\n",
        "    #else:\n",
        "    #    print (\"it's \" + str(identity) + \", the distance is \" + str(min_dist))\n",
        "        \n",
        "    return min_dist, identity"
      ],
      "execution_count": 6,
      "outputs": []
    },
    {
      "cell_type": "markdown",
      "metadata": {
        "id": "vQGVrGtZ4j5r"
      },
      "source": [
        "# 5. Build image encoding library"
      ]
    },
    {
      "cell_type": "code",
      "metadata": {
        "id": "EA4QXEoT4oHo"
      },
      "source": [
        "database = {}\n",
        "face = extract_face(\"/content/gdrive/My Drive/iss/project/data/austin/6.jpg\")\n",
        "database[\"austin\"] = get_embedding(facenet_model,face)\n",
        "face = extract_face(\"/content/gdrive/My Drive/iss/project/data/norman/IMG_5368.JPG\")\n",
        "database[\"norman\"] = get_embedding(facenet_model,face)\n",
        "face = extract_face(\"/content/gdrive/My Drive/iss/project/data/zhengmin/IMG_0963.jpg\")\n",
        "database[\"zhengmin\"] = get_embedding(facenet_model,face)\n",
        "\n",
        "face = extract_face(\"/content/gdrive/My Drive/iss/project/data/aidai/1_0_aidai_0019.jpg\")\n",
        "database[\"aidai\"] = get_embedding(facenet_model,face)\n",
        "face = extract_face(\"/content/gdrive/My Drive/iss/project/data/anhu/1_0_anhu_0026.jpg\")\n",
        "database[\"anhu\"] = get_embedding(facenet_model,face)\n",
        "face = extract_face(\"/content/gdrive/My Drive/iss/project/data/axin/1_0_axin_0084.jpg\")\n",
        "database[\"axin\"] = get_embedding(facenet_model,face)\n",
        "face = extract_face(\"/content/gdrive/My Drive/iss/project/data/baibaihe/1_0_baibaihe_0193.jpg\")\n",
        "database[\"baibaihe\"] = get_embedding(facenet_model,face)\n",
        "face = extract_face(\"/content/gdrive/My Drive/iss/project/data/baijingting/1_0_baijingting_0060.jpg\")\n",
        "database[\"baijingting\"] = get_embedding(facenet_model,face)\n",
        "face = extract_face(\"/content/gdrive/My Drive/iss/project/data/baike/1_0_baike_0048.jpg\")\n",
        "database[\"baike\"] = get_embedding(facenet_model,face)\n",
        "face = extract_face(\"/content/gdrive/My Drive/iss/project/data/baobeier/1_0_baobeier_0050.jpg\")\n",
        "database[\"baobeier\"] = get_embedding(facenet_model,face)\n",
        "face = extract_face(\"/content/gdrive/My Drive/iss/project/data/baojianfeng/1_0_baojianfeng_0209.jpg\")\n",
        "database[\"baojianfeng\"] = get_embedding(facenet_model,face)\n",
        "face = extract_face(\"/content/gdrive/My Drive/iss/project/data/benxi/1_0_benxi_0133.jpg\")\n",
        "database[\"benxi\"] = get_embedding(facenet_model,face)\n",
        "face = extract_face(\"/content/gdrive/My Drive/iss/project/data/caiguoqing/1_0_caiguoqing_0158.jpg\")\n",
        "database[\"caiguoqing\"] = get_embedding(facenet_model,face)\n",
        "face = extract_face(\"/content/gdrive/My Drive/iss/project/data/caihancen/1_0_caihancen_0100.jpg\")\n",
        "database[\"caihancen\"] = get_embedding(facenet_model,face)\n",
        "face = extract_face(\"/content/gdrive/My Drive/iss/project/data/caiyilin/1_0_caiyilin_0047.jpg\")\n",
        "database[\"caiyilin\"] = get_embedding(facenet_model,face)\n",
        "face = extract_face(\"/content/gdrive/My Drive/iss/project/data/caizhuoyan/1_0_caizhuoyan_0022.jpg\")\n",
        "database[\"caizhuoyan\"] = get_embedding(facenet_model,face)\n",
        "face = extract_face(\"/content/gdrive/My Drive/iss/project/data/caobingkun/1_0_caobingkun_0130.jpg\")\n",
        "database[\"caobingkun\"] = get_embedding(facenet_model,face)\n",
        "face = extract_face(\"/content/gdrive/My Drive/iss/project/data/caoying/1_0_caoying_0047.jpg\")\n",
        "database[\"caoying\"] = get_embedding(facenet_model,face)\n",
        "face = extract_face(\"/content/gdrive/My Drive/iss/project/data/caoyunjin/1_0_caoyunjin_0243.jpg\")\n",
        "database[\"caoyunjin\"] = get_embedding(facenet_model,face)\n",
        "face = extract_face(\"/content/gdrive/My Drive/iss/project/data/cengyongti/1_0_cengyongti_0250.jpg\")\n",
        "database[\"cengyongti\"] = get_embedding(facenet_model,face)\n",
        "face = extract_face(\"/content/gdrive/My Drive/iss/project/data/changshilei/1_0_changshilei_0223.jpg\")\n",
        "database[\"changshilei\"] = get_embedding(facenet_model,face)\n",
        "face = extract_face(\"/content/gdrive/My Drive/iss/project/data/changyuan/1_0_changyuan_0110.jpg\")\n",
        "database[\"changyuan\"] = get_embedding(facenet_model,face)\n",
        "face = extract_face(\"/content/gdrive/My Drive/iss/project/data/chenbailin/1_0_chenbailin_0075.jpg\")\n",
        "database[\"chenbailin\"] = get_embedding(facenet_model,face)\n",
        "face = extract_face(\"/content/gdrive/My Drive/iss/project/data/chenderong/1_0_chenderong_0157.jpg\")\n",
        "database[\"chenderong\"] = get_embedding(facenet_model,face)\n",
        "face = extract_face(\"/content/gdrive/My Drive/iss/project/data/chendouling/1_0_chendouling_0034.jpg\")\n",
        "database[\"chendouling\"] = get_embedding(facenet_model,face)\n",
        "face = extract_face(\"/content/gdrive/My Drive/iss/project/data/chenfarong/1_0_chenfarong_0147.jpg\")\n",
        "database[\"chenfarong\"] = get_embedding(facenet_model,face)\n",
        "face = extract_face(\"/content/gdrive/My Drive/iss/project/data/chenglong/1_0_chenglong_0039.jpg\")\n",
        "database[\"chenglong\"] = get_embedding(facenet_model,face)\n",
        "face = extract_face(\"/content/gdrive/My Drive/iss/project/data/chenguanxi/1_0_chenguanxi_0012.jpg\")\n",
        "database[\"chenguanxi\"] = get_embedding(facenet_model,face)\n",
        "face = extract_face(\"/content/gdrive/My Drive/iss/project/data/chenhaomin/1_0_chenhaomin_0097.jpg\")\n",
        "database[\"chenhaomin\"] = get_embedding(facenet_model,face)\n",
        "face = extract_face(\"/content/gdrive/My Drive/iss/project/data/chenhe/1_0_chenhe_0104.jpg\")\n",
        "database[\"chenhe\"] = get_embedding(facenet_model,face)\n",
        "face = extract_face(\"/content/gdrive/My Drive/iss/project/data/chenhuilin/1_0_chenhuilin_0081.jpg\")\n",
        "database[\"chenhuilin\"] = get_embedding(facenet_model,face)\n",
        "face = extract_face(\"/content/gdrive/My Drive/iss/project/data/chenhuixian/1_0_chenhuixian_0073.jpg\")\n",
        "database[\"chenhuixian\"] = get_embedding(facenet_model,face)\n",
        "face = extract_face(\"/content/gdrive/My Drive/iss/project/data/chenjiaqi/0_0_chenjiaqi_0002.jpg\")\n",
        "database[\"chenjiaqi\"] = get_embedding(facenet_model,face)\n",
        "face = extract_face(\"/content/gdrive/My Drive/iss/project/data/chenkun/1_0_chenkun_0118.jpg\")\n",
        "database[\"chenkun\"] = get_embedding(facenet_model,face)\n",
        "\n",
        "face = extract_face(\"/content/gdrive/My Drive/iss/project/data/chenlong/1_0_chenlong_0001.jpg\")\n",
        "database[\"chenlong\"] = get_embedding(facenet_model,face)\n",
        "face = extract_face(\"/content/gdrive/My Drive/iss/project/data/chenqiaoen/1_0_chenqiaoen_0096.jpg\")\n",
        "database[\"chenqiaoen\"] = get_embedding(facenet_model,face)\n",
        "face = extract_face(\"/content/gdrive/My Drive/iss/project/data/chenshu/1_0_chenshu_0139.jpg\")\n",
        "database[\"chenshu\"] = get_embedding(facenet_model,face)\n",
        "face = extract_face(\"/content/gdrive/My Drive/iss/project/data/chenweiting/1_0_chenweiting_0088.jpg\")\n",
        "database[\"chenweiting\"] = get_embedding(facenet_model,face)\n",
        "face = extract_face(\"/content/gdrive/My Drive/iss/project/data/chenxiang/0_0_chenxiang_0107.jpg\")\n",
        "database[\"chenxiang\"] = get_embedding(facenet_model,face)\n",
        "face = extract_face(\"/content/gdrive/My Drive/iss/project/data/chenxinyu/1_0_chenxinyu_0113.jpg\")\n",
        "database[\"chenxinyu\"] = get_embedding(facenet_model,face)\n",
        "face = extract_face(\"/content/gdrive/My Drive/iss/project/data/chenxuedong/1_0_chenxuedong_0171.jpg\")\n",
        "database[\"chenxuedong\"] = get_embedding(facenet_model,face)\n",
        "face = extract_face(\"/content/gdrive/My Drive/iss/project/data/chenyao/1_0_chenyao_0215.jpg\")\n",
        "database[\"chenyao\"] = get_embedding(facenet_model,face)\n",
        "face = extract_face(\"/content/gdrive/My Drive/iss/project/data/chenyi/0_0_chenyi_0053.jpg\")\n",
        "database[\"chenyi\"] = get_embedding(facenet_model,face)\n",
        "face = extract_face(\"/content/gdrive/My Drive/iss/project/data/chenyixun/1_0_chenyixun_0166.jpg\")\n",
        "database[\"chenyixun\"] = get_embedding(facenet_model,face)\n",
        "face = extract_face(\"/content/gdrive/My Drive/iss/project/data/chenyufan/0_0_chenyufan_0054.jpg\")\n",
        "database[\"chenyufan\"] = get_embedding(facenet_model,face)\n",
        "face = extract_face(\"/content/gdrive/My Drive/iss/project/data/chenzhipeng/0_0_chenzhipeng_0014.jpg\")\n",
        "database[\"chenzhipeng\"] = get_embedding(facenet_model,face)\n",
        "\n",
        "face = extract_face(\"/content/gdrive/My Drive/iss/project/data/daipeini/1_0_daipeini_0080.jpg\")\n",
        "database[\"daipeini\"] = get_embedding(facenet_model,face)\n",
        "face = extract_face(\"/content/gdrive/My Drive/iss/project/data/dazhangwei/1_0_dazhangwei_0001.jpg\")\n",
        "database[\"dazhangwei\"] = get_embedding(facenet_model,face)\n",
        "face = extract_face(\"/content/gdrive/My Drive/iss/project/data/dengchao/1_0_dengchao_0018.jpg\")\n",
        "database[\"dengchao\"] = get_embedding(facenet_model,face)\n",
        "face = extract_face(\"/content/gdrive/My Drive/iss/project/data/denglun/0_0_denglun_0149.jpg\")\n",
        "database[\"denglun\"] = get_embedding(facenet_model,face)\n",
        "face = extract_face(\"/content/gdrive/My Drive/iss/project/data/dengziqi/1_0_dengziqi_0057.jpg\")\n",
        "database[\"dengziqi\"] = get_embedding(facenet_model,face)\n",
        "face = extract_face(\"/content/gdrive/My Drive/iss/project/data/dilireba/1_0_dilireba_0162.jpg\")\n",
        "database[\"dilireba\"] = get_embedding(facenet_model,face)\n",
        "#face = extract_face(\"/content/gdrive/My Drive/iss/project/data/dingding/1_0_dingding_0011.jpg\")\n",
        "#database[\"dingding\"] = get_embedding(facenet_model,face)\n",
        "face = extract_face(\"/content/gdrive/My Drive/iss/project/data/ditianlin/1_0_ditianlin_0215.jpg\")\n",
        "database[\"ditianlin\"] = get_embedding(facenet_model,face)\n",
        "face = extract_face(\"/content/gdrive/My Drive/iss/project/data/dongchengpeng/1_0_dongchengpeng_0069.jpg\")\n",
        "database[\"dongchengpeng\"] = get_embedding(facenet_model,face)\n",
        "face = extract_face(\"/content/gdrive/My Drive/iss/project/data/dongjie/1_0_dongjie_0050.jpg\")\n",
        "database[\"dongjie\"] = get_embedding(facenet_model,face)\n",
        "face = extract_face(\"/content/gdrive/My Drive/iss/project/data/dongxuan/1_0_dongxuan_0203.jpg\")\n",
        "database[\"dongxuan\"] = get_embedding(facenet_model,face)\n",
        "face = extract_face(\"/content/gdrive/My Drive/iss/project/data/duhaitao/1_0_duhaitao_0189.jpg\")\n",
        "database[\"duhaitao\"] = get_embedding(facenet_model,face)\n",
        "face = extract_face(\"/content/gdrive/My Drive/iss/project/data/dujiang/1_0_dujiang_0173.jpg\")\n",
        "database[\"dujiang\"] = get_embedding(facenet_model,face)\n",
        "face = extract_face(\"/content/gdrive/My Drive/iss/project/data/duwenze/1_0_duwenze_0052.jpg\")\n",
        "database[\"duwenze\"] = get_embedding(facenet_model,face)\n",
        "\n",
        "\n",
        "face = extract_face(\"/content/gdrive/My Drive/iss/project/data/fanbingbing/1_0_fanbingbing_0021.jpg\")\n",
        "database[\"fanbingbing\"] = get_embedding(facenet_model,face)\n",
        "face = extract_face(\"/content/gdrive/My Drive/iss/project/data/fanganna/1_0_fanganna_0129.jpg\")\n",
        "database[\"fanganna\"] = get_embedding(facenet_model,face)\n",
        "face = extract_face(\"/content/gdrive/My Drive/iss/project/data/fangzuming/1_0_fangzuming_0111.jpg\")\n",
        "database[\"fangzuming\"] = get_embedding(facenet_model,face)\n",
        "face = extract_face(\"/content/gdrive/My Drive/iss/project/data/fanshiqi/1_0_fanshiqi_0158.jpg\")\n",
        "database[\"fanshiqi\"] = get_embedding(facenet_model,face)\n",
        "face = extract_face(\"/content/gdrive/My Drive/iss/project/data/fanwei/1_0_fanwei_0155.jpg\")\n",
        "database[\"fanwei\"] = get_embedding(facenet_model,face)\n",
        "face = extract_face(\"/content/gdrive/My Drive/iss/project/data/fanyichen/1_0_fanyichen_0001.jpg\")\n",
        "database[\"fanyichen\"] = get_embedding(facenet_model,face)\n",
        "face = extract_face(\"/content/gdrive/My Drive/iss/project/data/fengjianyu/1_0_fengjianyu_0067.jpg\")\n",
        "database[\"fengjianyu\"] = get_embedding(facenet_model,face)\n",
        "face = extract_face(\"/content/gdrive/My Drive/iss/project/data/fuxinbo/1_0_fuxinbo_0027.jpg\")\n",
        "database[\"fuxinbo\"] = get_embedding(facenet_model,face)\n",
        "face = extract_face(\"/content/gdrive/My Drive/iss/project/data/ganwei/1_0_ganwei_0083.jpg\")\n",
        "database[\"ganwei\"] = get_embedding(facenet_model,face)\n",
        "face = extract_face(\"/content/gdrive/My Drive/iss/project/data/gaohu/1_0_gaohu_0111.jpg\")\n",
        "database[\"gaohu\"] = get_embedding(facenet_model,face)\n",
        "face = extract_face(\"/content/gdrive/My Drive/iss/project/data/gaoyixiang/1_0_gaoyixiang_0196.jpg\")\n",
        "database[\"gaoyixiang\"] = get_embedding(facenet_model,face)\n",
        "face = extract_face(\"/content/gdrive/My Drive/iss/project/data/gaoyuanyuan/1_0_gaoyuanyuan_0194.jpg\")\n",
        "database[\"gaoyuanyuan\"] = get_embedding(facenet_model,face)\n",
        "face = extract_face(\"/content/gdrive/My Drive/iss/project/data/gongbeibi/1_0_gongbeibi_0001.jpg\")\n",
        "database[\"gongbeibi\"] = get_embedding(facenet_model,face)\n",
        "face = extract_face(\"/content/gdrive/My Drive/iss/project/data/guanxiaotong/1_0_guanxiaotong_0037.jpg\")\n",
        "database[\"guanxiaotong\"] = get_embedding(facenet_model,face)\n",
        "face = extract_face(\"/content/gdrive/My Drive/iss/project/data/guanyue/1_0_guanyue_0208.jpg\")\n",
        "database[\"guanyue\"] = get_embedding(facenet_model,face)\n",
        "face = extract_face(\"/content/gdrive/My Drive/iss/project/data/gulinazha/1_0_gulinazha_0208.jpg\")\n",
        "database[\"gulinazha\"] = get_embedding(facenet_model,face)\n",
        "face = extract_face(\"/content/gdrive/My Drive/iss/project/data/guobiting/1_0_guobiting_0100.jpg\")\n",
        "database[\"guobiting\"] = get_embedding(facenet_model,face)\n",
        "face = extract_face(\"/content/gdrive/My Drive/iss/project/data/guofucheng/1_0_guofucheng_0157.jpg\")\n",
        "database[\"guofucheng\"] = get_embedding(facenet_model,face)\n",
        "face = extract_face(\"/content/gdrive/My Drive/iss/project/data/guojingfei/1_0_guojingfei_0048.jpg\")\n",
        "database[\"guojingfei\"] = get_embedding(facenet_model,face)\n",
        "face = extract_face(\"/content/gdrive/My Drive/iss/project/data/guojingjing/1_0_guojingjing_0189.jpg\")\n",
        "database[\"guojingjing\"] = get_embedding(facenet_model,face)\n",
        "face = extract_face(\"/content/gdrive/My Drive/iss/project/data/guojingming/1_0_guojingming_0121.jpg\")\n",
        "database[\"guojingming\"] = get_embedding(facenet_model,face)\n",
        "face = extract_face(\"/content/gdrive/My Drive/iss/project/data/guojunchen/1_0_guojunchen_0004.jpg\")\n",
        "database[\"guojunchen\"] = get_embedding(facenet_model,face)\n",
        "face = extract_face(\"/content/gdrive/My Drive/iss/project/data/guoxiaofeng/1_0_guoxiaofeng_0245.jpg\")\n",
        "database[\"guoxiaofeng\"] = get_embedding(facenet_model,face)\n",
        "face = extract_face(\"/content/gdrive/My Drive/iss/project/data/gutianle/1_0_gutianle_0092.jpg\")\n",
        "database[\"gutianle\"] = get_embedding(facenet_model,face)\n",
        "\n",
        "face = extract_face(\"/content/gdrive/My Drive/iss/project/data/haiqing/1_0_haiqing_0109.jpg\")\n",
        "database[\"haiqing\"] = get_embedding(facenet_model,face)\n",
        "face = extract_face(\"/content/gdrive/My Drive/iss/project/data/hanbaoyi/0_0_hanbaoyi_0119.jpg\")\n",
        "database[\"hanbaoyi\"] = get_embedding(facenet_model,face)\n",
        "face = extract_face(\"/content/gdrive/My Drive/iss/project/data/handongjun/1_0_handongjun_0145.jpg\")\n",
        "database[\"handongjun\"] = get_embedding(facenet_model,face)\n",
        "face = extract_face(\"/content/gdrive/My Drive/iss/project/data/hangeng/1_0_hangeng_0170.jpg\")\n",
        "database[\"hangeng\"] = get_embedding(facenet_model,face)\n",
        "face = extract_face(\"/content/gdrive/My Drive/iss/project/data/hanqingzi/1_0_hanqingzi_0208.jpg\")\n",
        "database[\"hanqingzi\"] = get_embedding(facenet_model,face)\n",
        "face = extract_face(\"/content/gdrive/My Drive/iss/project/data/hanxue/1_0_hanxue_0042.jpg\")\n",
        "database[\"hanxue\"] = get_embedding(facenet_model,face)\n",
        "face = extract_face(\"/content/gdrive/My Drive/iss/project/data/haofeier/1_0_haofeier_0054.jpg\")\n",
        "database[\"haofeier\"] = get_embedding(facenet_model,face)\n",
        "face = extract_face(\"/content/gdrive/My Drive/iss/project/data/hedujuan/1_0_hedujuan_0007.jpg\")\n",
        "database[\"hedujuan\"] = get_embedding(facenet_model,face)\n",
        "face = extract_face(\"/content/gdrive/My Drive/iss/project/data/hejiong/0_0_hejiong_0111.jpg\")\n",
        "database[\"hejiong\"] = get_embedding(facenet_model,face)\n",
        "face = extract_face(\"/content/gdrive/My Drive/iss/project/data/hejunxiang/1_0_hejunxiang_0088.jpg\")\n",
        "database[\"hejunxiang\"] = get_embedding(facenet_model,face)\n",
        "face = extract_face(\"/content/gdrive/My Drive/iss/project/data/hewenhui/1_0_hewenhui_0118.jpg\")\n",
        "database[\"hewenhui\"] = get_embedding(facenet_model,face)\n",
        "face = extract_face(\"/content/gdrive/My Drive/iss/project/data/houminghao/1_0_houminghao_0116.jpg\")\n",
        "database[\"houminghao\"] = get_embedding(facenet_model,face)\n",
        "face = extract_face(\"/content/gdrive/My Drive/iss/project/data/houpeicen/1_0_houpeicen_0147.jpg\")\n",
        "database[\"houpeicen\"] = get_embedding(facenet_model,face)\n",
        "face = extract_face(\"/content/gdrive/My Drive/iss/project/data/huangbo/1_0_huangbo_0001.jpg\")\n",
        "database[\"huangbo\"] = get_embedding(facenet_model,face)\n",
        "face = extract_face(\"/content/gdrive/My Drive/iss/project/data/huanghaibo/1_0_huanghaibo_0036.jpg\")\n",
        "database[\"huanghaibo\"] = get_embedding(facenet_model,face)\n",
        "face = extract_face(\"/content/gdrive/My Drive/iss/project/data/huangjinglun/1_0_huangjinglun_0164.jpg\")\n",
        "database[\"huangjinglun\"] = get_embedding(facenet_model,face)\n",
        "face = extract_face(\"/content/gdrive/My Drive/iss/project/data/huangjingyu/1_0_huangjingyu_0015.jpg\")\n",
        "database[\"huangjingyu\"] = get_embedding(facenet_model,face)\n",
        "face = extract_face(\"/content/gdrive/My Drive/iss/project/data/huanglei/1_0_huanglei_0075.jpg\")\n",
        "database[\"huanglei\"] = get_embedding(facenet_model,face)\n",
        "face = extract_face(\"/content/gdrive/My Drive/iss/project/data/huangqiusheng/1_0_huangqiusheng_0002.jpg\")\n",
        "database[\"huangqiusheng\"] = get_embedding(facenet_model,face)\n",
        "face = extract_face(\"/content/gdrive/My Drive/iss/project/data/huangrihua/1_0_huangrihua_0081.jpg\")\n",
        "database[\"huangrihua\"] = get_embedding(facenet_model,face)\n",
        "face = extract_face(\"/content/gdrive/My Drive/iss/project/data/huangshengyi/1_0_huangshengyi_0245.jpg\")\n",
        "database[\"huangshengyi\"] = get_embedding(facenet_model,face)\n",
        "face = extract_face(\"/content/gdrive/My Drive/iss/project/data/huangtingting/1_0_huangtingting_0015.jpg\")\n",
        "database[\"huangtingting\"] = get_embedding(facenet_model,face)\n",
        "face = extract_face(\"/content/gdrive/My Drive/iss/project/data/huangxiaoming/1_0_huangxiaoming_0184.jpg\")\n",
        "database[\"huangxiaoming\"] = get_embedding(facenet_model,face)\n",
        "face = extract_face(\"/content/gdrive/My Drive/iss/project/data/huangxuan/1_0_huangxuan_0164.jpg\")\n",
        "database[\"huangxuan\"] = get_embedding(facenet_model,face)\n",
        "face = extract_face(\"/content/gdrive/My Drive/iss/project/data/huangzhiwei/1_0_huangzhiwei_0175.jpg\")\n",
        "database[\"huangzhiwei\"] = get_embedding(facenet_model,face)\n",
        "face = extract_face(\"/content/gdrive/My Drive/iss/project/data/huangzhongkun/1_0_huangzhongkun_0122.jpg\")\n",
        "database[\"huangzhongkun\"] = get_embedding(facenet_model,face)\n",
        "face = extract_face(\"/content/gdrive/My Drive/iss/project/data/huangzitao/1_0_huangzitao_0096.jpg\")\n",
        "database[\"huangzitao\"] = get_embedding(facenet_model,face)\n",
        "face = extract_face(\"/content/gdrive/My Drive/iss/project/data/huangzongze/1_0_huangzongze_0090.jpg\")\n",
        "database[\"huangzongze\"] = get_embedding(facenet_model,face)\n",
        "face = extract_face(\"/content/gdrive/My Drive/iss/project/data/huashao/1_0_huashao_0048.jpg\")\n",
        "database[\"huashao\"] = get_embedding(facenet_model,face)\n",
        "face = extract_face(\"/content/gdrive/My Drive/iss/project/data/hudie/1_0_hudie_0039.jpg\")\n",
        "database[\"hudie\"] = get_embedding(facenet_model,face)\n",
        "face = extract_face(\"/content/gdrive/My Drive/iss/project/data/huge/1_0_huge_0012.jpg\")\n",
        "database[\"huge\"] = get_embedding(facenet_model,face)\n",
        "face = extract_face(\"/content/gdrive/My Drive/iss/project/data/huhaiquan/1_0_huhaiquan_0001.jpg\")\n",
        "database[\"huhaiquan\"] = get_embedding(facenet_model,face)\n",
        "face = extract_face(\"/content/gdrive/My Drive/iss/project/data/hujing/1_0_hujing_0192.jpg\")\n",
        "database[\"hujing\"] = get_embedding(facenet_model,face)\n",
        "face = extract_face(\"/content/gdrive/My Drive/iss/project/data/huke/1_0_huke_0191.jpg\")\n",
        "database[\"huke\"] = get_embedding(facenet_model,face)\n",
        "face = extract_face(\"/content/gdrive/My Drive/iss/project/data/huojianhua/0_0_huojianhua_0125.jpg\")\n",
        "database[\"huojianhua\"] = get_embedding(facenet_model,face)\n",
        "face = extract_face(\"/content/gdrive/My Drive/iss/project/data/huosiyan/1_0_huosiyan_0216.jpg\")\n",
        "database[\"huosiyan\"] = get_embedding(facenet_model,face)\n",
        "face = extract_face(\"/content/gdrive/My Drive/iss/project/data/huozun/1_0_huozun_0195.jpg\")\n",
        "database[\"huozun\"] = get_embedding(facenet_model,face)\n",
        "face = extract_face(\"/content/gdrive/My Drive/iss/project/data/huxia/1_0_huxia_0122.jpg\")\n",
        "database[\"huxia\"] = get_embedding(facenet_model,face)\n",
        "face = extract_face(\"/content/gdrive/My Drive/iss/project/data/huyanbin/1_0_huyanbin_0211.jpg\")\n",
        "database[\"huyanbin\"] = get_embedding(facenet_model,face)"
      ],
      "execution_count": 7,
      "outputs": []
    },
    {
      "cell_type": "code",
      "metadata": {
        "id": "hiUADAjfzjLn"
      },
      "source": [
        "#load data from folder\n",
        "#test_dir = '/content/gdrive/My Drive/iss/project/data/aidai'\n",
        "#test_imgs = ['/content/gdrive/My Drive/iss/project/data/aidai/{}'.format(i) for i in os.listdir(test_dir)]"
      ],
      "execution_count": null,
      "outputs": []
    },
    {
      "cell_type": "code",
      "metadata": {
        "id": "KpijhCbn2MYl"
      },
      "source": [
        "#load data from pre-processed file\n",
        "with open('/content/gdrive/My Drive/iss/project/data/face_data_custom.npy', 'rb') as f:\n",
        "    test_imgs = np.load(f)\n",
        "\n",
        "with open('/content/gdrive/My Drive/iss/project/data/face_lable_custom.npy', 'rb') as f:\n",
        "    test_imgs_lable = np.load(f)"
      ],
      "execution_count": null,
      "outputs": []
    },
    {
      "cell_type": "code",
      "metadata": {
        "id": "JFaNMVpz0D1z"
      },
      "source": [
        "def test_image(img_list):\n",
        "    img_count = 0\n",
        "    tp = 0\n",
        "    tn = 0\n",
        "    fp = 0\n",
        "    fn = 0\n",
        "    erro_img = 0\n",
        "    for idx, img in enumerate(img_list):\n",
        "    #for img in img_list:\n",
        "        try:\n",
        "            img_count +=1\n",
        "            min_dist, identity = predict(img,database,facenet_model)\n",
        "            #if identity == 'aidai':\n",
        "            if identity == 'Not in the database' :\n",
        "              fn += 1\n",
        "            else:\n",
        "              if identity == test_imgs_lable[idx]:\n",
        "                tp += 1\n",
        "              else:\n",
        "                fp += 1\n",
        "        except:\n",
        "            #print(\"img error\")\n",
        "            erro_img+=1\n",
        "    #if img_count > 0:\n",
        "        #return result/img_count\n",
        "    return tp,tn,fp,fn\n",
        "    #return 0.0"
      ],
      "execution_count": null,
      "outputs": []
    },
    {
      "cell_type": "code",
      "metadata": {
        "id": "ingjls6wDpaz",
        "outputId": "0550334f-1d10-4c62-c5bf-a4c2c2c7458d",
        "colab": {
          "base_uri": "https://localhost:8080/",
          "height": 85
        }
      },
      "source": [
        "tp,tn,fp,fn = test_image(test_imgs)\n",
        "print(\"True Positive: \" + str(tp))\n",
        "print(\"True Negative: \" + str(tn))\n",
        "print(\"False Positive: \" + str(fp))\n",
        "print(\"False Negative: \" + str(fn))"
      ],
      "execution_count": null,
      "outputs": [
        {
          "output_type": "stream",
          "text": [
            "True Positive: 50\n",
            "True Negative: 0\n",
            "False Positive: 9\n",
            "False Negative: 0\n"
          ],
          "name": "stdout"
        }
      ]
    },
    {
      "cell_type": "code",
      "metadata": {
        "id": "8Hhbv6AjDpAf",
        "outputId": "a86d704d-c43f-4828-db63-cca9e2483a0d",
        "colab": {
          "base_uri": "https://localhost:8080/",
          "height": 68
        }
      },
      "source": [
        "print(\"Accuracy : \"+ str((tp+tn)/(tp+fp+fn+tn)))\n",
        "print(\"Precision : \"+ str(tp/(tp+fp)))\n",
        "print(\"Recall : \" +str(tp/(tp+fn)))"
      ],
      "execution_count": null,
      "outputs": [
        {
          "output_type": "stream",
          "text": [
            "Accuracy : 0.847457627118644\n",
            "Precision : 0.847457627118644\n",
            "Recall : 1.0\n"
          ],
          "name": "stdout"
        }
      ]
    },
    {
      "cell_type": "code",
      "metadata": {
        "id": "wh9zGfWxJE9n",
        "outputId": "50284abf-a82c-466e-d6be-eb609a2259e1",
        "colab": {
          "base_uri": "https://localhost:8080/",
          "height": 85
        }
      },
      "source": [
        "tp,tn,fp,fn = test_image(test_imgs)\n",
        "print(\"True Positive: \" + str(tp))\n",
        "print(\"True Negative: \" + str(tn))\n",
        "print(\"False Positive: \" + str(fp))\n",
        "print(\"False Negative: \" + str(fn))"
      ],
      "execution_count": null,
      "outputs": [
        {
          "output_type": "stream",
          "text": [
            "True Positive: 1260\n",
            "True Negative: 16\n",
            "False Positive: 508\n",
            "False Negative: 25\n"
          ],
          "name": "stdout"
        }
      ]
    },
    {
      "cell_type": "code",
      "metadata": {
        "id": "J-jKUj3iJFcF",
        "outputId": "bd018139-300f-44cc-b9f6-769d2904da70",
        "colab": {
          "base_uri": "https://localhost:8080/",
          "height": 68
        }
      },
      "source": [
        "print(\"Accuracy : \"+ str((tp+tn)/(tp+fp+fn+tn)))\n",
        "print(\"Precision : \"+ str(tp/(tp+fp)))\n",
        "print(\"Recall : \" +str(tp/(tp+fn)))"
      ],
      "execution_count": null,
      "outputs": [
        {
          "output_type": "stream",
          "text": [
            "Accuracy : 0.7053620784964069\n",
            "Precision : 0.7126696832579186\n",
            "Recall : 0.980544747081712\n"
          ],
          "name": "stdout"
        }
      ]
    },
    {
      "cell_type": "code",
      "metadata": {
        "id": "TpA-1Tvm5q8b",
        "outputId": "4bc13e24-ca54-41f5-e96c-52a2d3609092",
        "colab": {
          "base_uri": "https://localhost:8080/",
          "height": 85
        }
      },
      "source": [
        "tp,tn,fp,fn = test_image(test_imgs)\n",
        "print(\"True Positive: \" + str(tp))\n",
        "print(\"True Negative: \" + str(tn))\n",
        "print(\"False Positive: \" + str(fp))\n",
        "print(\"False Negative: \" + str(fn))"
      ],
      "execution_count": null,
      "outputs": [
        {
          "output_type": "stream",
          "text": [
            "True Positive: 5814\n",
            "True Negative: 0\n",
            "False Positive: 2140\n",
            "False Negative: 201\n"
          ],
          "name": "stdout"
        }
      ]
    },
    {
      "cell_type": "code",
      "metadata": {
        "id": "3LHj91mamNhJ",
        "outputId": "586634aa-d188-4f5c-e3c7-c27f53c93490",
        "colab": {
          "base_uri": "https://localhost:8080/",
          "height": 68
        }
      },
      "source": [
        "#test data\n",
        "print(\"Accuracy : \"+ str((tp+tn)/(tp+fp+fn+tn)))\n",
        "print(\"Precision : \"+ str(tp/(tp+fp)))\n",
        "print(\"Recall : \" +str(tp/(tp+fn)))"
      ],
      "execution_count": null,
      "outputs": [
        {
          "output_type": "stream",
          "text": [
            "Accuracy : 0.7129368485591662\n",
            "Precision : 0.7309529796328891\n",
            "Recall : 0.9665835411471322\n"
          ],
          "name": "stdout"
        }
      ]
    },
    {
      "cell_type": "code",
      "metadata": {
        "id": "Ak-PQuVz5ieN",
        "outputId": "e32e5add-c799-4b2b-90cf-bf90508ebf8d",
        "colab": {
          "base_uri": "https://localhost:8080/",
          "height": 34
        }
      },
      "source": [
        "#test all data classed with no preprocessing\n",
        "result = test_image(test_imgs)\n",
        "print(\"Accuracy: \" + str(result))"
      ],
      "execution_count": null,
      "outputs": [
        {
          "output_type": "stream",
          "text": [
            "Accuracy: 0.21622539516323036\n"
          ],
          "name": "stdout"
        }
      ]
    },
    {
      "cell_type": "code",
      "metadata": {
        "id": "t-TSKI5TLNVq",
        "outputId": "b197f888-9ce2-4830-face-90bf5a317c87",
        "colab": {
          "base_uri": "https://localhost:8080/",
          "height": 68
        }
      },
      "source": [
        "result = test_image(test_imgs)\n",
        "print(\"Accuracy: \" + str(result))"
      ],
      "execution_count": null,
      "outputs": [
        {
          "output_type": "stream",
          "text": [
            "img error\n",
            "img error\n",
            "Accuracy: 0.8\n"
          ],
          "name": "stdout"
        }
      ]
    },
    {
      "cell_type": "code",
      "metadata": {
        "id": "aJ0K8h2d0YMf",
        "outputId": "17f6b2d0-68f6-4a46-afaa-380bc629fce1",
        "colab": {
          "base_uri": "https://localhost:8080/",
          "height": 85
        }
      },
      "source": [
        "#test with 60 \n",
        "result = test_image(test_imgs)\n",
        "print(\"Accuracy: \" + str(result))"
      ],
      "execution_count": null,
      "outputs": [
        {
          "output_type": "stream",
          "text": [
            "img error\n",
            "img error\n",
            "img error\n",
            "Accuracy: 0.7722222222222223\n"
          ],
          "name": "stdout"
        }
      ]
    },
    {
      "cell_type": "markdown",
      "metadata": {
        "id": "_t4QARk54-5p"
      },
      "source": [
        "# 6. Output Model and Encoding DB"
      ]
    },
    {
      "cell_type": "code",
      "metadata": {
        "id": "GE5zSQHM4-lB"
      },
      "source": [
        "import csv\n",
        "\n",
        "with open('/content/gdrive/My Drive/iss/project/data/dict.csv', 'w') as csv_file:  \n",
        "    writer = csv.writer(csv_file)\n",
        "    for key, value in database.items():\n",
        "       value = list(value)\n",
        "       writer.writerow([key, value])\n",
        "    #for key, value in database.items():\n",
        "       #value = list(value)\n",
        "       #value = np.fromstring(value.tostring())\n",
        "       #re.sub(\"\\s+\", \",\", value.strip())\n",
        "       #value = \"[\" + value +\"]\"\n",
        "       #print(value)\n",
        "       #writer.writerow([key, value])"
      ],
      "execution_count": 8,
      "outputs": []
    },
    {
      "cell_type": "code",
      "metadata": {
        "id": "RHQHV34nZ_do"
      },
      "source": [
        "import cv2\n",
        "import numpy as np\n",
        "from matplotlib import pyplot as plt\n",
        "from google.colab.patches import cv2_imshow\n",
        "\n",
        "face_cascade=cv2.CascadeClassifier(\"/content/gdrive/My Drive/iss/project/haarcascade_frontalface_default.xml\")\n",
        "haarcascade_lefteye_2splits=cv2.CascadeClassifier(\"/content/gdrive/My Drive/iss/project/haarcascade_lefteye_2splits.xml\")\n",
        "haarcascade_righteye_2splits=cv2.CascadeClassifier(\"/content/gdrive/My Drive/iss/project/haarcascade_righteye_2splits.xml\")\n",
        "haarcascade_eye=cv2.CascadeClassifier(\"/content/gdrive/My Drive/iss/project/haarcascade_eye.xml\")\n",
        "haarcascade_eye_tree_eyeglasses=cv2.CascadeClassifier(\"/content/gdrive/My Drive/iss/project/haarcascade_eye_tree_eyeglasses.xml\")\n"
      ],
      "execution_count": null,
      "outputs": []
    },
    {
      "cell_type": "code",
      "metadata": {
        "id": "iqsWnK9ejgQf"
      },
      "source": [
        "def align_face(img_path):\n",
        "    img = cv2.imread(img_path)\n",
        "    status = False\n",
        "    img_original = img\n",
        "    # Converting the image into grayscale\n",
        "    gray=cv2.cvtColor(img, cv2.COLOR_BGR2GRAY)\n",
        "    lefteyexml = img\n",
        "    righteyexml = img\n",
        "    eyexml = img\n",
        "    eyeglassesxml = img\n",
        "    f_count = 0\n",
        "    try:\n",
        "        # Creating variable faces\n",
        "        faces= face_cascade.detectMultiScale (gray, 1.1, 4)\n",
        "        # Defining and drawing the rectangle around the face\n",
        "        for(x,y,w,h) in faces:\n",
        "          f_count+=1\n",
        "        # Creating two regions of interest\n",
        "        roi_gray=gray[y:(y+h), x:(x+w)]\n",
        "        roi_color=img[y:(y+h), x:(x+w)]\n",
        "        # Creating variable eyes\n",
        "\n",
        "        haarcascade_lefteye_2splits1 = haarcascade_lefteye_2splits.detectMultiScale(roi_gray, 1.1, 3)\n",
        "        haarcascade_righteye_2splits1 = haarcascade_righteye_2splits.detectMultiScale(roi_gray, 1.1, 3)\n",
        "        haarcascade_eye1 = haarcascade_eye.detectMultiScale(roi_gray, 1.1, 3)\n",
        "        eyeglasses1 = haarcascade_eye_tree_eyeglasses.detectMultiScale(roi_gray, 1.1, 3)\n",
        "        #haarcascade_mcs_righteye1 = haarcascade_mcs_righteye.detectMultiScale(roi_gray, 1.1, 3)\n",
        "        \n",
        "        haarcascade_lefteye_2splits2 = haarcascade_lefteye_2splits.detectMultiScale(roi_gray, 1.3, 4)\n",
        "        haarcascade_righteye_2splits2 = haarcascade_righteye_2splits.detectMultiScale(roi_gray, 1.3, 4)\n",
        "        haarcascade_eye2 = haarcascade_eye.detectMultiScale(roi_gray, 1.3, 4)\n",
        "        eyeglasses2 = haarcascade_eye_tree_eyeglasses.detectMultiScale(roi_gray, 1.3, 4)\n",
        "        #haarcascade_mcs_righteye2 = haarcascade_mcs_righteye.detectMultiScale(roi_gray, 1.3, 4)\n",
        "        \n",
        "        haarcascade_lefteye_2splits3 = haarcascade_lefteye_2splits.detectMultiScale(roi_gray, 1.5, 5)\n",
        "        haarcascade_righteye_2splits3 = haarcascade_righteye_2splits.detectMultiScale(roi_gray, 1.5, 5)\n",
        "        haarcascade_eye3 = haarcascade_eye.detectMultiScale(roi_gray, 1.5, 5)\n",
        "        eyeglasses3 = haarcascade_eye_tree_eyeglasses.detectMultiScale(roi_gray, 1.5, 5)\n",
        "        #haarcascade_mcs_righteye3 = haarcascade_mcs_righteye.detectMultiScale(roi_gray, 1.5, 5)\n",
        "\n",
        "        index=0\n",
        "        # Creating for loop in order to divide one eye from another\n",
        "        for (ex , ey,  ew,  eh) in eyes:\n",
        "          if index == 0:\n",
        "            eye_1 = (ex, ey, ew, eh)\n",
        "          elif index == 1:\n",
        "            eye_2 = (ex, ey, ew, eh)\n",
        "          index = index + 1\n",
        "        \n",
        "        if eye_1[0] < eye_2[0]:\n",
        "           left_eye = eye_1\n",
        "           right_eye = eye_2\n",
        "        else:\n",
        "           left_eye = eye_2\n",
        "           right_eye = eye_1\n",
        "        # Calculating coordinates of a central points of the rectangles\n",
        "        left_eye_center = (int(left_eye[0] + (left_eye[2] / 2)), int(left_eye[1] + (left_eye[3] / 2)))\n",
        "        left_eye_x = left_eye_center[0] \n",
        "        left_eye_y = left_eye_center[1]\n",
        "         \n",
        "        right_eye_center = (int(right_eye[0] + (right_eye[2]/2)), int(right_eye[1] + (right_eye[3]/2)))\n",
        "        right_eye_x = right_eye_center[0]\n",
        "        right_eye_y = right_eye_center[1]\n",
        "\n",
        "        if left_eye_y > right_eye_y:\n",
        "           A = (right_eye_x, left_eye_y)\n",
        "           # Integer -1 indicates that the image will rotate in the clockwise direction\n",
        "           direction = -1 \n",
        "        else:\n",
        "           A = (left_eye_x, right_eye_y)\n",
        "          # Integer 1 indicates that image will rotate in the counter clockwise  \n",
        "          # direction\n",
        "           direction = 1 \n",
        "\n",
        "        delta_x = right_eye_x - left_eye_x\n",
        "        delta_y = right_eye_y - left_eye_y\n",
        "        angle=np.arctan(delta_y/delta_x)\n",
        "        angle = (angle * 180) / np.pi\n",
        "\n",
        "        # Width and height of the image\n",
        "        h, w = img.shape[:2]\n",
        "        # Calculating a center point of the image\n",
        "        # Integer division \"//\"\" ensures that we receive whole numbers\n",
        "        center = (w // 2, h // 2)\n",
        "        # Defining a matrix M and calling\n",
        "        # cv2.getRotationMatrix2D method\n",
        "        M = cv2.getRotationMatrix2D(center, (angle), 1.0)\n",
        "        # Applying the rotation to our image using the\n",
        "        # cv2.warpAffine method\n",
        "        rotated = cv2.warpAffine(img_original, M, (w, h))\n",
        "\n",
        "        rotated = cv2.resize(rotated,(160,160),interpolation=cv2.INTER_CUBIC)\n",
        "        rotated = cv2.cvtColor(rotated,cv2.COLOR_BGR2GRAY)\n",
        "        rotated = cv2.cvtColor(rotated,cv2.COLOR_GRAY2RGB)\n",
        "        status = True\n",
        "        return rotated,status\n",
        "    except:\n",
        "        return gray,status"
      ],
      "execution_count": null,
      "outputs": []
    },
    {
      "cell_type": "code",
      "metadata": {
        "id": "EDQ5eb3csZK_",
        "outputId": "b4c2bf57-5d31-416b-df85-5282c2123f01",
        "colab": {
          "base_uri": "https://localhost:8080/",
          "height": 177
        }
      },
      "source": [
        "face,status = align_face('/content/gdrive/My Drive/iss/project/data/aidai/1_0_aidai_0001.jpg')\n",
        "\n",
        "cv2_imshow(face)"
      ],
      "execution_count": null,
      "outputs": [
        {
          "output_type": "display_data",
          "data": {
            "image/png": "[encoded data removed]",
            "text/plain": [
              "<PIL.Image.Image image mode=RGB size=160x160 at 0x7F0589005198>"
            ]
          },
          "metadata": {
            "tags": []
          }
        }
      ]
    },
    {
      "cell_type": "code",
      "metadata": {
        "id": "Y6kXYvUMMDPy",
        "outputId": "cc8b4db6-01eb-4ff5-c873-b3ca98137d45",
        "colab": {
          "base_uri": "https://localhost:8080/",
          "height": 161
        }
      },
      "source": [
        "org = cv2.imread('/content/gdrive/My Drive/iss/project/data/aidai/1_0_aidai_0001.jpg')\n",
        "cv2_imshow(org)"
      ],
      "execution_count": null,
      "outputs": [
        {
          "output_type": "display_data",
          "data": {
            "image/png": "[encoded data removed]",
            "text/plain": [
              "<PIL.Image.Image image mode=RGB size=139x144 at 0x7F0588FF97F0>"
            ]
          },
          "metadata": {
            "tags": []
          }
        }
      ]
    },
    {
      "cell_type": "code",
      "metadata": {
        "id": "tg2NMUR1sqA9"
      },
      "source": [
        "def samegroup(eye1,eye2):\n",
        "  dx = min(eye1[0]+eye1[2], eye2[0]+eye1[2]) - max(eye1[0], eye2[0])\n",
        "  dy = min(eye1[1]+eye1[3], eye2[1]+eye1[3]) - max(eye1[1], eye2[1])\n",
        "  if (dx>=0) and (dy>=0) and (dx*dy>0.5):\n",
        "      return True\n",
        "  return False\n",
        "\n",
        "def get_eyes(roi_gray):\n",
        "  # Creating variable eyes\n",
        "  haarcascade_lefteye_2splits1 = haarcascade_lefteye_2splits.detectMultiScale(roi_gray, 1.1, 3)\n",
        "  haarcascade_righteye_2splits1 = haarcascade_righteye_2splits.detectMultiScale(roi_gray, 1.1, 3)\n",
        "  eyeglasses1 = haarcascade_eye_tree_eyeglasses.detectMultiScale(roi_gray, 1.1, 3)\n",
        "\n",
        "  eye_group = []\n",
        "  group = 0\n",
        "  for (ex , ey,  ew,  eh) in haarcascade_lefteye_2splits1:\n",
        "    eye_group.append([ex , ey,  ew,  eh, group])\n",
        "    group += 1\n",
        "    #cv2.rectangle(lefteyexml,(ex,ey),(ex+ew,ey+eh),(0,255,0),2)\n",
        "  for (ex , ey,  ew,  eh) in haarcascade_righteye_2splits1:\n",
        "    grouped = False\n",
        "    for g in eye_group:\n",
        "      if samegroup([ex , ey,  ew,  eh],g):\n",
        "        eye_group.append([ex , ey,  ew,  eh, g[4]])\n",
        "        grouped = True\n",
        "        break\n",
        "    if grouped == False:\n",
        "      eye_group.append([ex , ey,  ew,  eh, group])\n",
        "      group +=1\n",
        "  for (ex , ey,  ew,  eh) in eyeglasses1:\n",
        "    grouped = False\n",
        "    for g in eye_group:\n",
        "      if samegroup([ex , ey,  ew,  eh],g):\n",
        "        eye_group.append([ex , ey,  ew,  eh, g[4]])\n",
        "        grouped = True\n",
        "        break\n",
        "    if grouped == False:\n",
        "      eye_group.append([ex , ey,  ew,  eh, group])\n",
        "      group +=1\n",
        "    #cv2.rectangle(eyeglassesxml,(ex,ey),(ex+ew,ey+eh),(255,255,255),2)\n",
        "  #print(\"total groups : \"+str(group))\n",
        "  eyes = []\n",
        "  for i in range(group):\n",
        "    ecount = 0\n",
        "    ex = 0\n",
        "    ey = 0\n",
        "    ew = 0\n",
        "    eh = 0\n",
        "    for e in eye_group:\n",
        "      if e[4] == i:\n",
        "        ex += e[0]\n",
        "        ey += e[1]\n",
        "        ew += e[2]\n",
        "        eh += e[3]\n",
        "        ecount+=1\n",
        "    if ecount > 1:\n",
        "      ex = int(ex/ecount)\n",
        "      ey = int(ey/ecount)\n",
        "      ew = int(ew/ecount)\n",
        "      eh = int(eh/ecount)\n",
        "    #print(\"Group : \"+str(i))\n",
        "    #print(\"position : {},{},{},{}\",ex,ey,ew,eh)\n",
        "    if len(eyes) <2 :\n",
        "      if len(eyes) == 1:\n",
        "        tmp = eyes[0]\n",
        "        if eyes[0][2]*eyes[0][3] < ew*eh:\n",
        "          eyes[0] = [ex,ey,ew,eh]\n",
        "          eyes.append(tmp)\n",
        "        else:\n",
        "          eyes.append([ex,ey,ew,eh])\n",
        "      else:\n",
        "        eyes.append([ex,ey,ew,eh])\n",
        "      #print(len(eyes))\n",
        "    else:\n",
        "      if eyes[0][2]*eyes[0][3] < ew*eh:\n",
        "        tmp = eyes[0]\n",
        "        eyes[0] = [ex,ey,ew,eh]\n",
        "        eyes[1] = tmp\n",
        "      elif eyes[1][2]*eyes[1][3] < ew*eh:\n",
        "        eyes[1] = [ex,ey,ew,eh]\n",
        "  return eyes\n",
        "\n",
        "\n",
        "\n",
        "def eye_detect(img_path):\n",
        "    img = cv2.imread(img_path)\n",
        "    status = False\n",
        "    img_original = img    \n",
        "\n",
        "    lefteyexml = img\n",
        "    righteyexml = img\n",
        "    eyexml = img\n",
        "    eyeglassesxml = img\n",
        "\n",
        "    lefteyexml2 = img\n",
        "    righteyexml2 = img\n",
        "    eyexml2 = img\n",
        "    eyeglassesxml2 = img\n",
        "\n",
        "    lefteyexml3 = img\n",
        "    righteyexml3 = img\n",
        "    eyexml3 = img\n",
        "    eyeglassesxml3 = img\n",
        "\n",
        "    # Converting the image into grayscale\n",
        "    gray=cv2.cvtColor(img, cv2.COLOR_BGR2GRAY)\n",
        "    f_count = 0\n",
        "    #try:\n",
        "    # Creating variable faces\n",
        "    faces= face_cascade.detectMultiScale (gray, 1.1, 4)\n",
        "    # Defining and drawing the rectangle around the face\n",
        "    for(x,y,w,h) in faces:\n",
        "      f_count+=1\n",
        "    # Creating two regions of interest\n",
        "    roi_gray=gray\n",
        "    roi_color=img\n",
        "    \n",
        "    eyes = get_eyes(roi_gray)    \n",
        "\n",
        "    #for e in eyes:\n",
        "    #  cv2.rectangle(eyeglassesxml,(e[0],e[1]),(e[0]+e[2],e[1]+e[3]),(0,0,255),2)\n",
        "\n",
        "    if len(eyes) ==2:\n",
        "      # Creating for loop in order to divide one eye from another\n",
        "      eye_1 = eyes[0]\n",
        "      eye_2 = eyes[1]\n",
        "      \n",
        "      if eye_1[0] < eye_2[0]:\n",
        "          left_eye = eye_1\n",
        "          right_eye = eye_2\n",
        "      else:\n",
        "          left_eye = eye_2\n",
        "          right_eye = eye_1\n",
        "      # Calculating coordinates of a central points of the rectangles\n",
        "      left_eye_center = (int(left_eye[0] + (left_eye[2] / 2)), int(left_eye[1] + (left_eye[3] / 2)))\n",
        "      left_eye_x = left_eye_center[0] \n",
        "      left_eye_y = left_eye_center[1]\n",
        "        \n",
        "      right_eye_center = (int(right_eye[0] + (right_eye[2]/2)), int(right_eye[1] + (right_eye[3]/2)))\n",
        "      right_eye_x = right_eye_center[0]\n",
        "      right_eye_y = right_eye_center[1]\n",
        "\n",
        "      if left_eye_y > right_eye_y:\n",
        "          A = (right_eye_x, left_eye_y)\n",
        "          # Integer -1 indicates that the image will rotate in the clockwise direction\n",
        "          direction = -1 \n",
        "      else:\n",
        "          A = (left_eye_x, right_eye_y)\n",
        "        # Integer 1 indicates that image will rotate in the counter clockwise  \n",
        "        # direction\n",
        "          direction = 1 \n",
        "\n",
        "      delta_x = right_eye_x - left_eye_x\n",
        "      delta_y = right_eye_y - left_eye_y\n",
        "      angle=np.arctan(delta_y/delta_x)\n",
        "      angle = (angle * 180) / np.pi\n",
        "\n",
        "      # Width and height of the image\n",
        "      h, w = img.shape[:2]\n",
        "      # Calculating a center point of the image\n",
        "      # Integer division \"//\"\" ensures that we receive whole numbers\n",
        "      center = (w // 2, h // 2)\n",
        "      # Defining a matrix M and calling\n",
        "      # cv2.getRotationMatrix2D method\n",
        "      M = cv2.getRotationMatrix2D(center, (angle), 1.0)\n",
        "      # Applying the rotation to our image using the\n",
        "      # cv2.warpAffine method\n",
        "      rotated = cv2.warpAffine(img_original, M, (w, h))\n",
        "\n",
        "      rotated = cv2.resize(rotated,(160,160),interpolation=cv2.INTER_CUBIC)\n",
        "      rotated = cv2.cvtColor(rotated,cv2.COLOR_BGR2GRAY)\n",
        "      rotated = cv2.cvtColor(rotated,cv2.COLOR_GRAY2RGB)\n",
        "      status = True\n",
        "      #return rotated,status\n",
        "      cv2_imshow(rotated)\n",
        "\n",
        "    cv2_imshow(lefteyexml)\n",
        "\n",
        "    status = True\n",
        "    return status\n",
        "    #except:\n",
        "    #    return status"
      ],
      "execution_count": null,
      "outputs": []
    },
    {
      "cell_type": "code",
      "metadata": {
        "id": "HAJPuCUEDnEV",
        "outputId": "cb1ae427-a0a8-4cbc-e125-0048273e3b58",
        "colab": {
          "base_uri": "https://localhost:8080/",
          "height": 309
        }
      },
      "source": [
        "status = eye_detect('/content/gdrive/My Drive/iss/project/data/aidai/1_0_aidai_0058.jpg')"
      ],
      "execution_count": null,
      "outputs": [
        {
          "output_type": "display_data",
          "data": {
            "image/png": "[encoded data removed]",
            "text/plain": [
              "<PIL.Image.Image image mode=RGB size=160x160 at 0x7F95673794A8>"
            ]
          },
          "metadata": {
            "tags": []
          }
        },
        {
          "output_type": "display_data",
          "data": {
            "image/png": "[encoded data removed]",
            "text/plain": [
              "<PIL.Image.Image image mode=RGB size=143x132 at 0x7F95673794A8>"
            ]
          },
          "metadata": {
            "tags": []
          }
        }
      ]
    },
    {
      "cell_type": "code",
      "metadata": {
        "id": "TOLEyHBPVwxD",
        "outputId": "7cd2d15b-3277-4eb8-b4bd-545c9b94db00",
        "colab": {
          "base_uri": "https://localhost:8080/",
          "height": 183
        }
      },
      "source": [
        "status = eye_detect('/content/gdrive/My Drive/iss/project/data/aidai/1_0_aidai_0058.jpg')"
      ],
      "execution_count": null,
      "outputs": [
        {
          "output_type": "stream",
          "text": [
            "1\n",
            "2\n"
          ],
          "name": "stdout"
        },
        {
          "output_type": "display_data",
          "data": {
            "image/png": "[encoded data removed]",
            "text/plain": [
              "<PIL.Image.Image image mode=RGB size=143x132 at 0x7F956739D198>"
            ]
          },
          "metadata": {
            "tags": []
          }
        }
      ]
    },
    {
      "cell_type": "code",
      "metadata": {
        "id": "Qvg9_42_VrCc",
        "outputId": "8336aa59-5d9f-4b04-d68d-5c8e5f9cae1b",
        "colab": {
          "base_uri": "https://localhost:8080/",
          "height": 149
        }
      },
      "source": [
        "status = eye_detect('/content/gdrive/My Drive/iss/project/data/aidai/1_0_aidai_0058.jpg')"
      ],
      "execution_count": null,
      "outputs": [
        {
          "output_type": "display_data",
          "data": {
            "image/png": "[encoded data removed]",
            "text/plain": [
              "<PIL.Image.Image image mode=RGB size=143x132 at 0x7F193FEA9240>"
            ]
          },
          "metadata": {
            "tags": []
          }
        }
      ]
    },
    {
      "cell_type": "code",
      "metadata": {
        "id": "f7476PpZ8sA8",
        "outputId": "ffc7b3f8-ac7c-494f-fdee-3a2f43a25dd9",
        "colab": {
          "base_uri": "https://localhost:8080/",
          "height": 34
        }
      },
      "source": [
        "int(22.2)"
      ],
      "execution_count": null,
      "outputs": [
        {
          "output_type": "execute_result",
          "data": {
            "text/plain": [
              "22"
            ]
          },
          "metadata": {
            "tags": []
          },
          "execution_count": 8
        }
      ]
    },
    {
      "cell_type": "code",
      "metadata": {
        "id": "A5NNx4Ig8tUK"
      },
      "source": [
        ""
      ],
      "execution_count": null,
      "outputs": []
    }
  ]
}